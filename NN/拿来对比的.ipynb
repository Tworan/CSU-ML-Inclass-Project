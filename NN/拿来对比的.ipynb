{
 "cells": [
  {
   "cell_type": "code",
   "execution_count": 1,
   "source": [
    "import numpy as np \n",
    "import matplotlib.pyplot as plt \n",
    "from tensorflow import keras "
   ],
   "outputs": [],
   "metadata": {}
  },
  {
   "cell_type": "code",
   "execution_count": 2,
   "source": [
    "(train_data, train_label), (test_data, test_label) = keras.datasets.mnist.load_data()\n",
    "print(train_data.shape, train_label.shape)\n",
    "print(test_data.shape, test_label.shape)"
   ],
   "outputs": [
    {
     "output_type": "stream",
     "name": "stdout",
     "text": [
      "(60000, 28, 28) (60000,)\n",
      "(10000, 28, 28) (10000,)\n"
     ]
    }
   ],
   "metadata": {}
  },
  {
   "cell_type": "code",
   "execution_count": 3,
   "source": [
    "from sklearn.model_selection import train_test_split \n",
    "X_train, X_val, Y_train, Y_val = train_test_split(train_data, train_label, random_state=1)\n",
    "plt.imshow(X_train[0])\n",
    "plt.title('cat')"
   ],
   "outputs": [
    {
     "output_type": "execute_result",
     "data": {
      "text/plain": [
       "Text(0.5, 1.0, 'cat')"
      ]
     },
     "metadata": {},
     "execution_count": 3
    },
    {
     "output_type": "display_data",
     "data": {
      "image/png": "[encoded data removed]",
      "text/plain": [
       "<Figure size 432x288 with 1 Axes>"
      ]
     },
     "metadata": {
      "needs_background": "light"
     }
    }
   ],
   "metadata": {}
  },
  {
   "cell_type": "code",
   "execution_count": 4,
   "source": [
    "category_num = [Y_train.flatten().tolist().count(i) for i in range (10)]\n",
    "category_name = ['airplane', 'automobile', 'bird', 'cat', 'deer', 'dog', 'frog', 'horse', 'ship', 'truck']\n",
    "plt.figure(figsize=(13, 3))\n",
    "plt.bar(category_name, category_num)"
   ],
   "outputs": [
    {
     "output_type": "execute_result",
     "data": {
      "text/plain": [
       "<BarContainer object of 10 artists>"
      ]
     },
     "metadata": {},
     "execution_count": 4
    },
    {
     "output_type": "display_data",
     "data": {
      "image/png": "[encoded data removed]",
      "text/plain": [
       "<Figure size 936x216 with 1 Axes>"
      ]
     },
     "metadata": {
      "needs_background": "light"
     }
    }
   ],
   "metadata": {}
  },
  {
   "cell_type": "markdown",
   "source": [
    "## 用卷积神经网络去做"
   ],
   "metadata": {}
  },
  {
   "cell_type": "code",
   "execution_count": 5,
   "source": [
    "from tensorflow.keras import models, layers, optimizers \n",
    "model = models.Sequential()\n",
    "model.add(\n",
    "    layers.Conv2D(64, (3, 3), activation='relu', padding='same', input_shape=(28, 28, 1))\n",
    ")\n",
    "model.add(\n",
    "    layers.Conv2D(64, (3, 3), activation='relu', padding='same')\n",
    ")\n",
    "model.add(\n",
    "    layers.MaxPooling2D((3, 3), strides=(2, 2), padding='same')\n",
    ")\n",
    "\n",
    "model.add(\n",
    "    layers.Conv2D(128, (3, 3), activation='relu', padding='same')\n",
    ")\n",
    "model.add(\n",
    "    layers.Conv2D(128, (3, 3), activation='relu', padding='same')\n",
    ")\n",
    "model.add(\n",
    "    layers.MaxPooling2D((3, 3), strides=(2, 2), padding='same')\n",
    ")\n",
    "\n",
    "model.add(\n",
    "    layers.Conv2D(256, (3, 3), activation='relu', padding='same')\n",
    ")\n",
    "model.add(\n",
    "    layers.Conv2D(256, (3, 3), activation='relu', padding='same')\n",
    ")\n",
    "model.add(\n",
    "    layers.MaxPooling2D((3, 3), strides=(2, 2), padding='same')\n",
    ")\n",
    "\n",
    "model.add(\n",
    "    layers.Conv2D(512, (3, 3), activation='relu', padding='same')\n",
    ")\n",
    "model.add(\n",
    "    layers.Conv2D(512, (3, 3), activation='relu', padding='same')\n",
    ")\n",
    "model.add(\n",
    "    layers.MaxPooling2D((3, 3), strides=(2, 2), padding='same')\n",
    ")\n",
    "model.add(\n",
    "    layers.Flatten()\n",
    ")\n",
    "model.add(\n",
    "    layers.Dense(512, activation='relu')\n",
    ")\n",
    "model.add(\n",
    "    layers.Dense(512, activation='relu')\n",
    ")\n",
    "model.add(\n",
    "    layers.Dense(10, activation='softmax')\n",
    ")\n",
    "model.compile(\n",
    "    optimizer=optimizers.SGD(),\n",
    "    loss = 'categorical_crossentropy',\n",
    "    metrics=['acc']\n",
    ")"
   ],
   "outputs": [
    {
     "output_type": "stream",
     "name": "stderr",
     "text": [
      "2021-12-09 21:11:47.196838: I tensorflow/stream_executor/cuda/cuda_gpu_executor.cc:939] successful NUMA node read from SysFS had negative value (-1), but there must be at least one NUMA node, so returning NUMA node zero\n",
      "2021-12-09 21:11:47.225951: I tensorflow/stream_executor/cuda/cuda_gpu_executor.cc:939] successful NUMA node read from SysFS had negative value (-1), but there must be at least one NUMA node, so returning NUMA node zero\n",
      "2021-12-09 21:11:47.226199: I tensorflow/stream_executor/cuda/cuda_gpu_executor.cc:939] successful NUMA node read from SysFS had negative value (-1), but there must be at least one NUMA node, so returning NUMA node zero\n",
      "2021-12-09 21:11:47.227115: I tensorflow/core/platform/cpu_feature_guard.cc:151] This TensorFlow binary is optimized with oneAPI Deep Neural Network Library (oneDNN) to use the following CPU instructions in performance-critical operations:  AVX2 FMA\n",
      "To enable them in other operations, rebuild TensorFlow with the appropriate compiler flags.\n",
      "2021-12-09 21:11:47.228003: I tensorflow/stream_executor/cuda/cuda_gpu_executor.cc:939] successful NUMA node read from SysFS had negative value (-1), but there must be at least one NUMA node, so returning NUMA node zero\n",
      "2021-12-09 21:11:47.228303: I tensorflow/stream_executor/cuda/cuda_gpu_executor.cc:939] successful NUMA node read from SysFS had negative value (-1), but there must be at least one NUMA node, so returning NUMA node zero\n",
      "2021-12-09 21:11:47.228449: I tensorflow/stream_executor/cuda/cuda_gpu_executor.cc:939] successful NUMA node read from SysFS had negative value (-1), but there must be at least one NUMA node, so returning NUMA node zero\n",
      "2021-12-09 21:11:47.646236: I tensorflow/stream_executor/cuda/cuda_gpu_executor.cc:939] successful NUMA node read from SysFS had negative value (-1), but there must be at least one NUMA node, so returning NUMA node zero\n",
      "2021-12-09 21:11:47.646472: I tensorflow/stream_executor/cuda/cuda_gpu_executor.cc:939] successful NUMA node read from SysFS had negative value (-1), but there must be at least one NUMA node, so returning NUMA node zero\n",
      "2021-12-09 21:11:47.646627: I tensorflow/stream_executor/cuda/cuda_gpu_executor.cc:939] successful NUMA node read from SysFS had negative value (-1), but there must be at least one NUMA node, so returning NUMA node zero\n",
      "2021-12-09 21:11:47.646764: I tensorflow/core/common_runtime/gpu/gpu_device.cc:1525] Created device /job:localhost/replica:0/task:0/device:GPU:0 with 2641 MB memory:  -> device: 0, name: NVIDIA GeForce GTX 1650 Ti, pci bus id: 0000:01:00.0, compute capability: 7.5\n"
     ]
    }
   ],
   "metadata": {}
  },
  {
   "cell_type": "code",
   "execution_count": 6,
   "source": [
    "model.summary()"
   ],
   "outputs": [
    {
     "output_type": "stream",
     "name": "stdout",
     "text": [
      "Model: \"sequential\"\n",
      "_________________________________________________________________\n",
      " Layer (type)                Output Shape              Param #   \n",
      "=================================================================\n",
      " conv2d (Conv2D)             (None, 28, 28, 64)        640       \n",
      "                                                                 \n",
      " conv2d_1 (Conv2D)           (None, 28, 28, 64)        36928     \n",
      "                                                                 \n",
      " max_pooling2d (MaxPooling2D  (None, 14, 14, 64)       0         \n",
      " )                                                               \n",
      "                                                                 \n",
      " conv2d_2 (Conv2D)           (None, 14, 14, 128)       73856     \n",
      "                                                                 \n",
      " conv2d_3 (Conv2D)           (None, 14, 14, 128)       147584    \n",
      "                                                                 \n",
      " max_pooling2d_1 (MaxPooling  (None, 7, 7, 128)        0         \n",
      " 2D)                                                             \n",
      "                                                                 \n",
      " conv2d_4 (Conv2D)           (None, 7, 7, 256)         295168    \n",
      "                                                                 \n",
      " conv2d_5 (Conv2D)           (None, 7, 7, 256)         590080    \n",
      "                                                                 \n",
      " max_pooling2d_2 (MaxPooling  (None, 4, 4, 256)        0         \n",
      " 2D)                                                             \n",
      "                                                                 \n",
      " conv2d_6 (Conv2D)           (None, 4, 4, 512)         1180160   \n",
      "                                                                 \n",
      " conv2d_7 (Conv2D)           (None, 4, 4, 512)         2359808   \n",
      "                                                                 \n",
      " max_pooling2d_3 (MaxPooling  (None, 2, 2, 512)        0         \n",
      " 2D)                                                             \n",
      "                                                                 \n",
      " flatten (Flatten)           (None, 2048)              0         \n",
      "                                                                 \n",
      " dense (Dense)               (None, 512)               1049088   \n",
      "                                                                 \n",
      " dense_1 (Dense)             (None, 512)               262656    \n",
      "                                                                 \n",
      " dense_2 (Dense)             (None, 10)                5130      \n",
      "                                                                 \n",
      "=================================================================\n",
      "Total params: 6,001,098\n",
      "Trainable params: 6,001,098\n",
      "Non-trainable params: 0\n",
      "_________________________________________________________________\n"
     ]
    }
   ],
   "metadata": {}
  },
  {
   "cell_type": "code",
   "execution_count": 7,
   "source": [
    "from tensorflow.keras.utils import to_categorical\n",
    "Y_train_ = to_categorical(Y_train, 10)\n",
    "X_train_ = np.expand_dims(X_train / 255., axis=-1)\n",
    "model.fit(\n",
    "    X_train_, Y_train_, \n",
    "    epochs=20,\n",
    "    batch_size=64\n",
    ")"
   ],
   "outputs": [
    {
     "output_type": "stream",
     "name": "stdout",
     "text": [
      "Epoch 1/20\n"
     ]
    },
    {
     "output_type": "stream",
     "name": "stderr",
     "text": [
      "2021-12-09 21:11:54.941745: I tensorflow/stream_executor/cuda/cuda_dnn.cc:366] Loaded cuDNN version 8300\n"
     ]
    },
    {
     "output_type": "stream",
     "name": "stdout",
     "text": [
      "704/704 [==============================] - 23s 27ms/step - loss: 1.8434 - acc: 0.4206\n",
      "Epoch 2/20\n",
      "704/704 [==============================] - 19s 27ms/step - loss: 0.2595 - acc: 0.9162\n",
      "Epoch 3/20\n",
      "704/704 [==============================] - 19s 27ms/step - loss: 0.1176 - acc: 0.9612\n",
      "Epoch 4/20\n",
      "704/704 [==============================] - 19s 27ms/step - loss: 0.0838 - acc: 0.9734\n",
      "Epoch 5/20\n",
      "704/704 [==============================] - 19s 27ms/step - loss: 0.0627 - acc: 0.9799\n",
      "Epoch 6/20\n",
      "704/704 [==============================] - 19s 27ms/step - loss: 0.0563 - acc: 0.9834\n",
      "Epoch 7/20\n",
      "704/704 [==============================] - 19s 27ms/step - loss: 0.0426 - acc: 0.9865\n",
      "Epoch 8/20\n",
      "704/704 [==============================] - 19s 27ms/step - loss: 0.0365 - acc: 0.9877\n",
      "Epoch 9/20\n",
      "704/704 [==============================] - 19s 27ms/step - loss: 0.0308 - acc: 0.9903\n",
      "Epoch 10/20\n",
      "704/704 [==============================] - 19s 27ms/step - loss: 0.0258 - acc: 0.9919\n",
      "Epoch 11/20\n",
      "704/704 [==============================] - 19s 27ms/step - loss: 0.0220 - acc: 0.9928\n",
      "Epoch 12/20\n",
      "704/704 [==============================] - 19s 27ms/step - loss: 0.0202 - acc: 0.9934\n",
      "Epoch 13/20\n",
      "704/704 [==============================] - 19s 27ms/step - loss: 0.0159 - acc: 0.9951\n",
      "Epoch 14/20\n",
      "704/704 [==============================] - 19s 27ms/step - loss: 0.0139 - acc: 0.9953\n",
      "Epoch 15/20\n",
      "704/704 [==============================] - 19s 27ms/step - loss: 0.0118 - acc: 0.9962\n",
      "Epoch 16/20\n",
      "704/704 [==============================] - 19s 27ms/step - loss: 0.0098 - acc: 0.9967\n",
      "Epoch 17/20\n",
      "704/704 [==============================] - 19s 27ms/step - loss: 0.0082 - acc: 0.9975\n",
      "Epoch 18/20\n",
      "704/704 [==============================] - 19s 27ms/step - loss: 0.0067 - acc: 0.9978\n",
      "Epoch 19/20\n",
      "704/704 [==============================] - 19s 27ms/step - loss: 0.0040 - acc: 0.9990\n",
      "Epoch 20/20\n",
      "704/704 [==============================] - 19s 27ms/step - loss: 0.0064 - acc: 0.9981\n"
     ]
    },
    {
     "output_type": "execute_result",
     "data": {
      "text/plain": [
       "<keras.callbacks.History at 0x7f04501c80d0>"
      ]
     },
     "metadata": {},
     "execution_count": 7
    }
   ],
   "metadata": {}
  },
  {
   "cell_type": "code",
   "execution_count": null,
   "source": [],
   "outputs": [],
   "metadata": {}
  }
 ],
 "metadata": {
  "orig_nbformat": 4,
  "language_info": {
   "name": "python",
   "version": "3.10.1",
   "mimetype": "text/x-python",
   "codemirror_mode": {
    "name": "ipython",
    "version": 3
   },
   "pygments_lexer": "ipython3",
   "nbconvert_exporter": "python",
   "file_extension": ".py"
  },
  "kernelspec": {
   "name": "python3",
   "display_name": "Python 3.10.1 64-bit"
  },
  "interpreter": {
   "hash": "e7370f93d1d0cde622a1f8e1c04877d8463912d04d973331ad4851f04de6915a"
  }
 },
 "nbformat": 4,
 "nbformat_minor": 2
}